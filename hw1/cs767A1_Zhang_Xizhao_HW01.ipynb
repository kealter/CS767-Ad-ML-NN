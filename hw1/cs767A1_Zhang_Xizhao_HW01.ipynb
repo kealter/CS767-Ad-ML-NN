{
 "cells": [
  {
   "cell_type": "markdown",
   "id": "7cc1653e",
   "metadata": {},
   "source": [
    "## Problem1\n",
    "(cs767) C:\\Users\\XIZHAO>python --version\n",
    "Python 3.11.5\n",
    "\n",
    "(cs767) C:\\Users\\XIZHAO>conda env list\n",
    " conda environments:\n",
    "\n",
    "base                     D:\\anaconda\n",
    "cs767                 *  D:\\anaconda\\envs\\cs767"
   ]
  },
  {
   "cell_type": "code",
   "execution_count": 1,
   "id": "652ea7ee",
   "metadata": {},
   "outputs": [
    {
     "name": "stdout",
     "output_type": "stream",
     "text": [
      "TensorFlow version: 2.13.0\n"
     ]
    }
   ],
   "source": [
    "# Probelm2\n",
    "import tensorflow as tf\n",
    "\n",
    "print(\"TensorFlow version:\", tf.__version__)\n"
   ]
  },
  {
   "cell_type": "code",
   "execution_count": 2,
   "id": "9b4da3c6",
   "metadata": {},
   "outputs": [
    {
     "name": "stdout",
     "output_type": "stream",
     "text": [
      "+ result:\n",
      "[[ 6  8]\n",
      " [10 12]]\n",
      "add result:\n",
      "[[ 6  8]\n",
      " [10 12]]\n"
     ]
    }
   ],
   "source": [
    "# Problem3\n",
    "tensor1 = tf.constant([[1, 2], [3, 4]])\n",
    "tensor2 = tf.constant([[5, 6], [7, 8]])\n",
    "\n",
    "result1 = tensor1 + tensor2\n",
    "\n",
    "result2 = tf.add(tensor1, tensor2)\n",
    "\n",
    "print(\"+ result:\")\n",
    "print(result1.numpy())\n",
    "print(\"add result:\")\n",
    "print(result2.numpy())"
   ]
  },
  {
   "cell_type": "code",
   "execution_count": 3,
   "id": "da1a7c8f",
   "metadata": {},
   "outputs": [
    {
     "data": {
      "text/plain": [
       "['Timer',\n",
       " '__all__',\n",
       " '__builtins__',\n",
       " '__cached__',\n",
       " '__doc__',\n",
       " '__file__',\n",
       " '__loader__',\n",
       " '__name__',\n",
       " '__package__',\n",
       " '__spec__',\n",
       " '_globals',\n",
       " 'default_number',\n",
       " 'default_repeat',\n",
       " 'default_timer',\n",
       " 'dummy_src_name',\n",
       " 'gc',\n",
       " 'itertools',\n",
       " 'main',\n",
       " 'reindent',\n",
       " 'repeat',\n",
       " 'sys',\n",
       " 'template',\n",
       " 'time',\n",
       " 'timeit']"
      ]
     },
     "execution_count": 3,
     "metadata": {},
     "output_type": "execute_result"
    }
   ],
   "source": [
    "# Problem4\n",
    "import timeit\n",
    "dir(timeit)"
   ]
  },
  {
   "cell_type": "code",
   "execution_count": 4,
   "id": "888f3c75",
   "metadata": {},
   "outputs": [
    {
     "data": {
      "text/plain": [
       "False"
      ]
     },
     "execution_count": 4,
     "metadata": {},
     "output_type": "execute_result"
    }
   ],
   "source": [
    "# returns whether TensorFlow was built with CUDA (GPU) support\n",
    "tf.test.is_built_with_cuda()"
   ]
  },
  {
   "cell_type": "code",
   "execution_count": 5,
   "id": "2f05b3b9",
   "metadata": {},
   "outputs": [
    {
     "data": {
      "text/plain": [
       "[]"
      ]
     },
     "execution_count": 5,
     "metadata": {},
     "output_type": "execute_result"
    }
   ],
   "source": [
    "# returns a list of available physical GPUs\n",
    "tf.config.list_physical_devices(\"GPU\")"
   ]
  },
  {
   "cell_type": "code",
   "execution_count": 6,
   "id": "b4315225",
   "metadata": {},
   "outputs": [
    {
     "data": {
      "text/plain": [
       "''"
      ]
     },
     "execution_count": 6,
     "metadata": {},
     "output_type": "execute_result"
    }
   ],
   "source": [
    "# returns the names of physical GPUs\n",
    "tf.test.gpu_device_name()"
   ]
  },
  {
   "cell_type": "code",
   "execution_count": 7,
   "id": "5d6b5441",
   "metadata": {},
   "outputs": [
    {
     "name": "stdout",
     "output_type": "stream",
     "text": [
      "/job:localhost/replica:0/task:0/device:CPU:0 \n",
      " /job:localhost/replica:0/task:0/device:CPU:0 \n",
      "\n",
      "\n",
      "/job:localhost/replica:0/task:0/device:CPU:0 \n",
      " /job:localhost/replica:0/task:0/device:CPU:0\n"
     ]
    }
   ],
   "source": [
    "# initialize random matrices on CPU and GPU\n",
    "with tf.device(\"/CPU:0\"):\n",
    "    cpu_m1 = tf.random.normal(shape=[10000, 1000])\n",
    "    cpu_m2 = tf.random.normal(shape=[1000, 5000])\n",
    "    print(cpu_m1.device, \"\\n\", cpu_m2.device, \"\\n\"*2)\n",
    "\n",
    "with tf.device(\"/GPU:0\"):\n",
    "    gpu_m1 = tf.random.normal([10000, 1000])\n",
    "    gpu_m2 = tf.random.normal([1000, 5000])\n",
    "    print(gpu_m1.device, \"\\n\", gpu_m2.device)"
   ]
  },
  {
   "cell_type": "code",
   "execution_count": 8,
   "id": "390dd091",
   "metadata": {},
   "outputs": [
    {
     "name": "stdout",
     "output_type": "stream",
     "text": [
      "CPU run time: 6.99417099999846\n",
      "GPU run time: 7.01117919999524\n"
     ]
    }
   ],
   "source": [
    "# perform matrix multiplication test\n",
    "def cpu_test():\n",
    "    with tf.device(\"/CPU:0\"):\n",
    "        res = tf.matmul(cpu_m1, cpu_m2)\n",
    "    return res\n",
    "\n",
    "def gpu_test():\n",
    "    with tf.device(\"/GPU:0\"):\n",
    "        res = tf.matmul(gpu_m1, gpu_m2)\n",
    "    return res\n",
    "\n",
    "if __name__ == \"__main__\":\n",
    "    cpu_time = timeit.timeit(cpu_test, number=50)\n",
    "    gpu_time = timeit.timeit(gpu_test, number=50)\n",
    "    print(f\"CPU run time: {cpu_time}\\nGPU run time: {gpu_time}\")"
   ]
  },
  {
   "cell_type": "markdown",
   "id": "9a1372ec",
   "metadata": {},
   "source": [
    "## problem5\n",
    "/job:localhost/replica:0/task:0/device:CPU:0 \n",
    " /job:localhost/replica:0/task:0/device:CPU:0 \n",
    "\n",
    "\n",
    "/job:localhost/replica:0/task:0/device:CPU:0 \n",
    " /job:localhost/replica:0/task:0/device:CPU:0\n",
    "CPU run time: 99.809208146\n",
    "GPU run time: 97.32552906599997"
   ]
  },
  {
   "cell_type": "code",
   "execution_count": 9,
   "id": "e3dda0f0",
   "metadata": {},
   "outputs": [
    {
     "name": "stdout",
     "output_type": "stream",
     "text": [
      "Logical Table for OR:\n",
      "Input 1  Input 2  Result  \n",
      "1        1        1       \n",
      "1        0        1       \n",
      "0        1        1       \n",
      "0        0        0       \n",
      "\n",
      "Logical Table for AND:\n",
      "Input 1  Input 2  Result  \n",
      "1        1        1       \n",
      "1        0        0       \n",
      "0        1        0       \n",
      "0        0        0       \n",
      "\n",
      "Logical Table for NOT:\n",
      "Input 1   Result  \n",
      "1         0       \n",
      "0         1       \n"
     ]
    }
   ],
   "source": [
    "# Problem6\n",
    "\n",
    "def logical_or(x, y):\n",
    "    return x or y\n",
    "\n",
    "def logical_and(x, y):\n",
    "    return x and y\n",
    "\n",
    "def logical_not(x):\n",
    "    return not x\n",
    "\n",
    "#test\n",
    "def table(logical_function, function_name):\n",
    "    print(f\"Logical Table for {function_name}:\")\n",
    "    print(f\"{'Input 1':<8} {'Input 2':<8} {'Result':<8}\")\n",
    "    for input1 in [True, False]:\n",
    "        for input2 in [True, False]:\n",
    "            result = logical_function(input1, input2)\n",
    "            print(f\"{input1:<8} {input2:<8} {result:<8}\")\n",
    "            \n",
    "def table2(logical_function, function_name):\n",
    "    print(f\"Logical Table for {function_name}:\")\n",
    "    print(f\"{'Input 1':<8}  {'Result':<8}\")\n",
    "    for input1 in [True, False]:\n",
    "        result = logical_function(input1)\n",
    "        print(f\"{input1:<8}  {result:<8}\")\n",
    "        \n",
    "\n",
    "table(logical_or, \"OR\")\n",
    "print()\n",
    "table(logical_and, \"AND\")\n",
    "print()\n",
    "table2(logical_not, \"NOT\")\n"
   ]
  }
 ],
 "metadata": {
  "kernelspec": {
   "display_name": "Python 3 (ipykernel)",
   "language": "python",
   "name": "python3"
  },
  "language_info": {
   "codemirror_mode": {
    "name": "ipython",
    "version": 3
   },
   "file_extension": ".py",
   "mimetype": "text/x-python",
   "name": "python",
   "nbconvert_exporter": "python",
   "pygments_lexer": "ipython3",
   "version": "3.11.5"
  }
 },
 "nbformat": 4,
 "nbformat_minor": 5
}
